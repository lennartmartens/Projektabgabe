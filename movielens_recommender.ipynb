{
 "cells": [
  {
   "cell_type": "code",
   "execution_count": 253,
   "metadata": {},
   "outputs": [],
   "source": [
    "import pandas as pd\n",
    "import numpy as np\n",
    "import tensorflow as tf\n",
    "from tensorflow import keras\n",
    "import seaborn as sns\n",
    "from sklearn.model_selection import train_test_split\n",
    "import matplotlib.pyplot as plt\n",
    "import plotly.graph_objs as go\n",
    "import plotly.offline as py"
   ]
  },
  {
   "cell_type": "code",
   "execution_count": 254,
   "metadata": {},
   "outputs": [],
   "source": [
    "reviews = pd.read_csv('MovieLens_Dataset/u.data', names=['userId', 'movieId', 'rating', 'time'], sep='\\t', engine='python', header=None, encoding='latin-1')\n",
    "\n",
    "movies = pd.read_csv('MovieLens_Dataset/u.item', names=['movieId', 'movie title' ,'release date','video release date', 'IMDb URL', 'unknown', 'Action', \n",
    "                'Adventure', 'Animation', 'Children', 'Comedy', 'Crime', 'Documentary', 'Drama', 'Fantasy', 'Film-Noir', \n",
    "                'Horror', 'Musical', 'Mystery', 'Romance', 'Sci-Fi', 'Thriller', 'War', 'Western'], sep='|', engine='python', header=None, encoding='latin-1')\n",
    "\n",
    "user = pd.read_csv('MovieLens_Dataset/u.user', names=['userId', 'age', 'gender', 'occupation', 'zip code'], sep='|', engine='python', header=None, encoding='latin-1')\n",
    "\n",
    "genre = pd.read_csv('MovieLens_Dataset/u.genre', names=['genre', 'genreId'], sep='|', engine='python', header=None, encoding='latin-1')\n",
    "\n",
    "occupation = pd.read_csv('MovieLens_Dataset/u.occupation', names=['occupation'], engine='python', header=None, encoding='latin-1')"
   ]
  },
  {
   "attachments": {},
   "cell_type": "markdown",
   "metadata": {},
   "source": [
    "# Data Analysis"
   ]
  },
  {
   "attachments": {},
   "cell_type": "markdown",
   "metadata": {},
   "source": [
    "As a first step, the data of the Movielens dataset are analyzed to get a rough overview of what information is given. First, a data frame is created in which all data can be called up collectively."
   ]
  },
  {
   "cell_type": "code",
   "execution_count": 255,
   "metadata": {},
   "outputs": [
    {
     "data": {
      "text/html": [
       "<div>\n",
       "<style scoped>\n",
       "    .dataframe tbody tr th:only-of-type {\n",
       "        vertical-align: middle;\n",
       "    }\n",
       "\n",
       "    .dataframe tbody tr th {\n",
       "        vertical-align: top;\n",
       "    }\n",
       "\n",
       "    .dataframe thead th {\n",
       "        text-align: right;\n",
       "    }\n",
       "</style>\n",
       "<table border=\"1\" class=\"dataframe\">\n",
       "  <thead>\n",
       "    <tr style=\"text-align: right;\">\n",
       "      <th></th>\n",
       "      <th>userId</th>\n",
       "      <th>movieId</th>\n",
       "      <th>rating</th>\n",
       "      <th>time</th>\n",
       "      <th>movie title</th>\n",
       "      <th>release date</th>\n",
       "      <th>video release date</th>\n",
       "      <th>IMDb URL</th>\n",
       "      <th>unknown</th>\n",
       "      <th>Action</th>\n",
       "      <th>...</th>\n",
       "      <th>Mystery</th>\n",
       "      <th>Romance</th>\n",
       "      <th>Sci-Fi</th>\n",
       "      <th>Thriller</th>\n",
       "      <th>War</th>\n",
       "      <th>Western</th>\n",
       "      <th>age</th>\n",
       "      <th>gender</th>\n",
       "      <th>occupation</th>\n",
       "      <th>zip code</th>\n",
       "    </tr>\n",
       "  </thead>\n",
       "  <tbody>\n",
       "    <tr>\n",
       "      <th>0</th>\n",
       "      <td>196</td>\n",
       "      <td>242</td>\n",
       "      <td>3</td>\n",
       "      <td>881250949</td>\n",
       "      <td>Kolya (1996)</td>\n",
       "      <td>24-Jan-1997</td>\n",
       "      <td>NaN</td>\n",
       "      <td>http://us.imdb.com/M/title-exact?Kolya%20(1996)</td>\n",
       "      <td>0</td>\n",
       "      <td>0</td>\n",
       "      <td>...</td>\n",
       "      <td>0</td>\n",
       "      <td>0</td>\n",
       "      <td>0</td>\n",
       "      <td>0</td>\n",
       "      <td>0</td>\n",
       "      <td>0</td>\n",
       "      <td>49</td>\n",
       "      <td>M</td>\n",
       "      <td>writer</td>\n",
       "      <td>55105</td>\n",
       "    </tr>\n",
       "    <tr>\n",
       "      <th>1</th>\n",
       "      <td>186</td>\n",
       "      <td>302</td>\n",
       "      <td>3</td>\n",
       "      <td>891717742</td>\n",
       "      <td>L.A. Confidential (1997)</td>\n",
       "      <td>01-Jan-1997</td>\n",
       "      <td>NaN</td>\n",
       "      <td>http://us.imdb.com/M/title-exact?L%2EA%2E+Conf...</td>\n",
       "      <td>0</td>\n",
       "      <td>0</td>\n",
       "      <td>...</td>\n",
       "      <td>1</td>\n",
       "      <td>0</td>\n",
       "      <td>0</td>\n",
       "      <td>1</td>\n",
       "      <td>0</td>\n",
       "      <td>0</td>\n",
       "      <td>39</td>\n",
       "      <td>F</td>\n",
       "      <td>executive</td>\n",
       "      <td>00000</td>\n",
       "    </tr>\n",
       "    <tr>\n",
       "      <th>2</th>\n",
       "      <td>22</td>\n",
       "      <td>377</td>\n",
       "      <td>1</td>\n",
       "      <td>878887116</td>\n",
       "      <td>Heavyweights (1994)</td>\n",
       "      <td>01-Jan-1994</td>\n",
       "      <td>NaN</td>\n",
       "      <td>http://us.imdb.com/M/title-exact?Heavyweights%...</td>\n",
       "      <td>0</td>\n",
       "      <td>0</td>\n",
       "      <td>...</td>\n",
       "      <td>0</td>\n",
       "      <td>0</td>\n",
       "      <td>0</td>\n",
       "      <td>0</td>\n",
       "      <td>0</td>\n",
       "      <td>0</td>\n",
       "      <td>25</td>\n",
       "      <td>M</td>\n",
       "      <td>writer</td>\n",
       "      <td>40206</td>\n",
       "    </tr>\n",
       "    <tr>\n",
       "      <th>3</th>\n",
       "      <td>244</td>\n",
       "      <td>51</td>\n",
       "      <td>2</td>\n",
       "      <td>880606923</td>\n",
       "      <td>Legends of the Fall (1994)</td>\n",
       "      <td>01-Jan-1994</td>\n",
       "      <td>NaN</td>\n",
       "      <td>http://us.imdb.com/M/title-exact?Legends%20of%...</td>\n",
       "      <td>0</td>\n",
       "      <td>0</td>\n",
       "      <td>...</td>\n",
       "      <td>0</td>\n",
       "      <td>1</td>\n",
       "      <td>0</td>\n",
       "      <td>0</td>\n",
       "      <td>1</td>\n",
       "      <td>1</td>\n",
       "      <td>28</td>\n",
       "      <td>M</td>\n",
       "      <td>technician</td>\n",
       "      <td>80525</td>\n",
       "    </tr>\n",
       "    <tr>\n",
       "      <th>4</th>\n",
       "      <td>166</td>\n",
       "      <td>346</td>\n",
       "      <td>1</td>\n",
       "      <td>886397596</td>\n",
       "      <td>Jackie Brown (1997)</td>\n",
       "      <td>01-Jan-1997</td>\n",
       "      <td>NaN</td>\n",
       "      <td>http://us.imdb.com/M/title-exact?imdb-title-11...</td>\n",
       "      <td>0</td>\n",
       "      <td>0</td>\n",
       "      <td>...</td>\n",
       "      <td>0</td>\n",
       "      <td>0</td>\n",
       "      <td>0</td>\n",
       "      <td>0</td>\n",
       "      <td>0</td>\n",
       "      <td>0</td>\n",
       "      <td>47</td>\n",
       "      <td>M</td>\n",
       "      <td>educator</td>\n",
       "      <td>55113</td>\n",
       "    </tr>\n",
       "  </tbody>\n",
       "</table>\n",
       "<p>5 rows × 31 columns</p>\n",
       "</div>"
      ],
      "text/plain": [
       "   userId  movieId  rating       time                 movie title  \\\n",
       "0     196      242       3  881250949                Kolya (1996)   \n",
       "1     186      302       3  891717742    L.A. Confidential (1997)   \n",
       "2      22      377       1  878887116         Heavyweights (1994)   \n",
       "3     244       51       2  880606923  Legends of the Fall (1994)   \n",
       "4     166      346       1  886397596         Jackie Brown (1997)   \n",
       "\n",
       "  release date  video release date  \\\n",
       "0  24-Jan-1997                 NaN   \n",
       "1  01-Jan-1997                 NaN   \n",
       "2  01-Jan-1994                 NaN   \n",
       "3  01-Jan-1994                 NaN   \n",
       "4  01-Jan-1997                 NaN   \n",
       "\n",
       "                                            IMDb URL  unknown  Action  ...  \\\n",
       "0    http://us.imdb.com/M/title-exact?Kolya%20(1996)        0       0  ...   \n",
       "1  http://us.imdb.com/M/title-exact?L%2EA%2E+Conf...        0       0  ...   \n",
       "2  http://us.imdb.com/M/title-exact?Heavyweights%...        0       0  ...   \n",
       "3  http://us.imdb.com/M/title-exact?Legends%20of%...        0       0  ...   \n",
       "4  http://us.imdb.com/M/title-exact?imdb-title-11...        0       0  ...   \n",
       "\n",
       "   Mystery  Romance  Sci-Fi  Thriller  War  Western  age  gender  occupation  \\\n",
       "0        0        0       0         0    0        0   49       M      writer   \n",
       "1        1        0       0         1    0        0   39       F   executive   \n",
       "2        0        0       0         0    0        0   25       M      writer   \n",
       "3        0        1       0         0    1        1   28       M  technician   \n",
       "4        0        0       0         0    0        0   47       M    educator   \n",
       "\n",
       "   zip code  \n",
       "0     55105  \n",
       "1     00000  \n",
       "2     40206  \n",
       "3     80525  \n",
       "4     55113  \n",
       "\n",
       "[5 rows x 31 columns]"
      ]
     },
     "execution_count": 255,
     "metadata": {},
     "output_type": "execute_result"
    }
   ],
   "source": [
    "df_mixed = pd.merge(reviews, movies, on='movieId', how='left')\n",
    "df_final = pd.merge(df_mixed, user, on='userId', how='left')\n",
    "\n",
    "df_final.head()"
   ]
  },
  {
   "attachments": {},
   "cell_type": "markdown",
   "metadata": {},
   "source": [
    "The first step in the analysis is to look at how many ratings and what amount were given in total."
   ]
  },
  {
   "cell_type": "code",
   "execution_count": 256,
   "metadata": {},
   "outputs": [
    {
     "data": {
      "image/png": "[encoded data removed]",
      "text/plain": [
       "<Figure size 640x480 with 1 Axes>"
      ]
     },
     "metadata": {},
     "output_type": "display_data"
    }
   ],
   "source": [
    "plt.hist(reviews['rating'], bins=5, ec='black')\n",
    "plt.xlabel('Rating')\n",
    "plt.ylabel('Count')\n",
    "plt.title('Distribution of Ratings in MovieLens 100K')\n",
    "plt.show()"
   ]
  },
  {
   "cell_type": "code",
   "execution_count": 257,
   "metadata": {},
   "outputs": [
    {
     "data": {
      "application/vnd.plotly.v1+json": {
       "config": {
        "linkText": "Export to plot.ly",
        "plotlyServerURL": "https://plot.ly",
        "showLink": false
       },
       "data": [
        {
         "hole": 0.5,
         "labels": [
          "M",
          "F"
         ],
         "marker": {
          "colors": [
           "dodgerblue",
           "pink"
          ]
         },
         "type": "pie",
         "values": [
          670,
          273
         ]
        }
       ],
       "layout": {
        "font": {
         "size": 18
        },
        "legend": {
         "orientation": "h"
        },
        "template": {
         "data": {
          "bar": [
           {
            "error_x": {
             "color": "#2a3f5f"
            },
            "error_y": {
             "color": "#2a3f5f"
            },
            "marker": {
             "line": {
              "color": "#E5ECF6",
              "width": 0.5
             },
             "pattern": {
              "fillmode": "overlay",
              "size": 10,
              "solidity": 0.2
             }
            },
            "type": "bar"
           }
          ],
          "barpolar": [
           {
            "marker": {
             "line": {
              "color": "#E5ECF6",
              "width": 0.5
             },
             "pattern": {
              "fillmode": "overlay",
              "size": 10,
              "solidity": 0.2
             }
            },
            "type": "barpolar"
           }
          ],
          "carpet": [
           {
            "aaxis": {
             "endlinecolor": "#2a3f5f",
             "gridcolor": "white",
             "linecolor": "white",
             "minorgridcolor": "white",
             "startlinecolor": "#2a3f5f"
            },
            "baxis": {
             "endlinecolor": "#2a3f5f",
             "gridcolor": "white",
             "linecolor": "white",
             "minorgridcolor": "white",
             "startlinecolor": "#2a3f5f"
            },
            "type": "carpet"
           }
          ],
          "choropleth": [
           {
            "colorbar": {
             "outlinewidth": 0,
             "ticks": ""
            },
            "type": "choropleth"
           }
          ],
          "contour": [
           {
            "colorbar": {
             "outlinewidth": 0,
             "ticks": ""
            },
            "colorscale": [
             [
              0,
              "#0d0887"
             ],
             [
              0.1111111111111111,
              "#46039f"
             ],
             [
              0.2222222222222222,
              "#7201a8"
             ],
             [
              0.3333333333333333,
              "#9c179e"
             ],
             [
              0.4444444444444444,
              "#bd3786"
             ],
             [
              0.5555555555555556,
              "#d8576b"
             ],
             [
              0.6666666666666666,
              "#ed7953"
             ],
             [
              0.7777777777777778,
              "#fb9f3a"
             ],
             [
              0.8888888888888888,
              "#fdca26"
             ],
             [
              1,
              "#f0f921"
             ]
            ],
            "type": "contour"
           }
          ],
          "contourcarpet": [
           {
            "colorbar": {
             "outlinewidth": 0,
             "ticks": ""
            },
            "type": "contourcarpet"
           }
          ],
          "heatmap": [
           {
            "colorbar": {
             "outlinewidth": 0,
             "ticks": ""
            },
            "colorscale": [
             [
              0,
              "#0d0887"
             ],
             [
              0.1111111111111111,
              "#46039f"
             ],
             [
              0.2222222222222222,
              "#7201a8"
             ],
             [
              0.3333333333333333,
              "#9c179e"
             ],
             [
              0.4444444444444444,
              "#bd3786"
             ],
             [
              0.5555555555555556,
              "#d8576b"
             ],
             [
              0.6666666666666666,
              "#ed7953"
             ],
             [
              0.7777777777777778,
              "#fb9f3a"
             ],
             [
              0.8888888888888888,
              "#fdca26"
             ],
             [
              1,
              "#f0f921"
             ]
            ],
            "type": "heatmap"
           }
          ],
          "heatmapgl": [
           {
            "colorbar": {
             "outlinewidth": 0,
             "ticks": ""
            },
            "colorscale": [
             [
              0,
              "#0d0887"
             ],
             [
              0.1111111111111111,
              "#46039f"
             ],
             [
              0.2222222222222222,
              "#7201a8"
             ],
             [
              0.3333333333333333,
              "#9c179e"
             ],
             [
              0.4444444444444444,
              "#bd3786"
             ],
             [
              0.5555555555555556,
              "#d8576b"
             ],
             [
              0.6666666666666666,
              "#ed7953"
             ],
             [
              0.7777777777777778,
              "#fb9f3a"
             ],
             [
              0.8888888888888888,
              "#fdca26"
             ],
             [
              1,
              "#f0f921"
             ]
            ],
            "type": "heatmapgl"
           }
          ],
          "histogram": [
           {
            "marker": {
             "pattern": {
              "fillmode": "overlay",
              "size": 10,
              "solidity": 0.2
             }
            },
            "type": "histogram"
           }
          ],
          "histogram2d": [
           {
            "colorbar": {
             "outlinewidth": 0,
             "ticks": ""
            },
            "colorscale": [
             [
              0,
              "#0d0887"
             ],
             [
              0.1111111111111111,
              "#46039f"
             ],
             [
              0.2222222222222222,
              "#7201a8"
             ],
             [
              0.3333333333333333,
              "#9c179e"
             ],
             [
              0.4444444444444444,
              "#bd3786"
             ],
             [
              0.5555555555555556,
              "#d8576b"
             ],
             [
              0.6666666666666666,
              "#ed7953"
             ],
             [
              0.7777777777777778,
              "#fb9f3a"
             ],
             [
              0.8888888888888888,
              "#fdca26"
             ],
             [
              1,
              "#f0f921"
             ]
            ],
            "type": "histogram2d"
           }
          ],
          "histogram2dcontour": [
           {
            "colorbar": {
             "outlinewidth": 0,
             "ticks": ""
            },
            "colorscale": [
             [
              0,
              "#0d0887"
             ],
             [
              0.1111111111111111,
              "#46039f"
             ],
             [
              0.2222222222222222,
              "#7201a8"
             ],
             [
              0.3333333333333333,
              "#9c179e"
             ],
             [
              0.4444444444444444,
              "#bd3786"
             ],
             [
              0.5555555555555556,
              "#d8576b"
             ],
             [
              0.6666666666666666,
              "#ed7953"
             ],
             [
              0.7777777777777778,
              "#fb9f3a"
             ],
             [
              0.8888888888888888,
              "#fdca26"
             ],
             [
              1,
              "#f0f921"
             ]
            ],
            "type": "histogram2dcontour"
           }
          ],
          "mesh3d": [
           {
            "colorbar": {
             "outlinewidth": 0,
             "ticks": ""
            },
            "type": "mesh3d"
           }
          ],
          "parcoords": [
           {
            "line": {
             "colorbar": {
              "outlinewidth": 0,
              "ticks": ""
             }
            },
            "type": "parcoords"
           }
          ],
          "pie": [
           {
            "automargin": true,
            "type": "pie"
           }
          ],
          "scatter": [
           {
            "fillpattern": {
             "fillmode": "overlay",
             "size": 10,
             "solidity": 0.2
            },
            "type": "scatter"
           }
          ],
          "scatter3d": [
           {
            "line": {
             "colorbar": {
              "outlinewidth": 0,
              "ticks": ""
             }
            },
            "marker": {
             "colorbar": {
              "outlinewidth": 0,
              "ticks": ""
             }
            },
            "type": "scatter3d"
           }
          ],
          "scattercarpet": [
           {
            "marker": {
             "colorbar": {
              "outlinewidth": 0,
              "ticks": ""
             }
            },
            "type": "scattercarpet"
           }
          ],
          "scattergeo": [
           {
            "marker": {
             "colorbar": {
              "outlinewidth": 0,
              "ticks": ""
             }
            },
            "type": "scattergeo"
           }
          ],
          "scattergl": [
           {
            "marker": {
             "colorbar": {
              "outlinewidth": 0,
              "ticks": ""
             }
            },
            "type": "scattergl"
           }
          ],
          "scattermapbox": [
           {
            "marker": {
             "colorbar": {
              "outlinewidth": 0,
              "ticks": ""
             }
            },
            "type": "scattermapbox"
           }
          ],
          "scatterpolar": [
           {
            "marker": {
             "colorbar": {
              "outlinewidth": 0,
              "ticks": ""
             }
            },
            "type": "scatterpolar"
           }
          ],
          "scatterpolargl": [
           {
            "marker": {
             "colorbar": {
              "outlinewidth": 0,
              "ticks": ""
             }
            },
            "type": "scatterpolargl"
           }
          ],
          "scatterternary": [
           {
            "marker": {
             "colorbar": {
              "outlinewidth": 0,
              "ticks": ""
             }
            },
            "type": "scatterternary"
           }
          ],
          "surface": [
           {
            "colorbar": {
             "outlinewidth": 0,
             "ticks": ""
            },
            "colorscale": [
             [
              0,
              "#0d0887"
             ],
             [
              0.1111111111111111,
              "#46039f"
             ],
             [
              0.2222222222222222,
              "#7201a8"
             ],
             [
              0.3333333333333333,
              "#9c179e"
             ],
             [
              0.4444444444444444,
              "#bd3786"
             ],
             [
              0.5555555555555556,
              "#d8576b"
             ],
             [
              0.6666666666666666,
              "#ed7953"
             ],
             [
              0.7777777777777778,
              "#fb9f3a"
             ],
             [
              0.8888888888888888,
              "#fdca26"
             ],
             [
              1,
              "#f0f921"
             ]
            ],
            "type": "surface"
           }
          ],
          "table": [
           {
            "cells": {
             "fill": {
              "color": "#EBF0F8"
             },
             "line": {
              "color": "white"
             }
            },
            "header": {
             "fill": {
              "color": "#C8D4E3"
             },
             "line": {
              "color": "white"
             }
            },
            "type": "table"
           }
          ]
         },
         "layout": {
          "annotationdefaults": {
           "arrowcolor": "#2a3f5f",
           "arrowhead": 0,
           "arrowwidth": 1
          },
          "autotypenumbers": "strict",
          "coloraxis": {
           "colorbar": {
            "outlinewidth": 0,
            "ticks": ""
           }
          },
          "colorscale": {
           "diverging": [
            [
             0,
             "#8e0152"
            ],
            [
             0.1,
             "#c51b7d"
            ],
            [
             0.2,
             "#de77ae"
            ],
            [
             0.3,
             "#f1b6da"
            ],
            [
             0.4,
             "#fde0ef"
            ],
            [
             0.5,
             "#f7f7f7"
            ],
            [
             0.6,
             "#e6f5d0"
            ],
            [
             0.7,
             "#b8e186"
            ],
            [
             0.8,
             "#7fbc41"
            ],
            [
             0.9,
             "#4d9221"
            ],
            [
             1,
             "#276419"
            ]
           ],
           "sequential": [
            [
             0,
             "#0d0887"
            ],
            [
             0.1111111111111111,
             "#46039f"
            ],
            [
             0.2222222222222222,
             "#7201a8"
            ],
            [
             0.3333333333333333,
             "#9c179e"
            ],
            [
             0.4444444444444444,
             "#bd3786"
            ],
            [
             0.5555555555555556,
             "#d8576b"
            ],
            [
             0.6666666666666666,
             "#ed7953"
            ],
            [
             0.7777777777777778,
             "#fb9f3a"
            ],
            [
             0.8888888888888888,
             "#fdca26"
            ],
            [
             1,
             "#f0f921"
            ]
           ],
           "sequentialminus": [
            [
             0,
             "#0d0887"
            ],
            [
             0.1111111111111111,
             "#46039f"
            ],
            [
             0.2222222222222222,
             "#7201a8"
            ],
            [
             0.3333333333333333,
             "#9c179e"
            ],
            [
             0.4444444444444444,
             "#bd3786"
            ],
            [
             0.5555555555555556,
             "#d8576b"
            ],
            [
             0.6666666666666666,
             "#ed7953"
            ],
            [
             0.7777777777777778,
             "#fb9f3a"
            ],
            [
             0.8888888888888888,
             "#fdca26"
            ],
            [
             1,
             "#f0f921"
            ]
           ]
          },
          "colorway": [
           "#636efa",
           "#EF553B",
           "#00cc96",
           "#ab63fa",
           "#FFA15A",
           "#19d3f3",
           "#FF6692",
           "#B6E880",
           "#FF97FF",
           "#FECB52"
          ],
          "font": {
           "color": "#2a3f5f"
          },
          "geo": {
           "bgcolor": "white",
           "lakecolor": "white",
           "landcolor": "#E5ECF6",
           "showlakes": true,
           "showland": true,
           "subunitcolor": "white"
          },
          "hoverlabel": {
           "align": "left"
          },
          "hovermode": "closest",
          "mapbox": {
           "style": "light"
          },
          "paper_bgcolor": "white",
          "plot_bgcolor": "#E5ECF6",
          "polar": {
           "angularaxis": {
            "gridcolor": "white",
            "linecolor": "white",
            "ticks": ""
           },
           "bgcolor": "#E5ECF6",
           "radialaxis": {
            "gridcolor": "white",
            "linecolor": "white",
            "ticks": ""
           }
          },
          "scene": {
           "xaxis": {
            "backgroundcolor": "#E5ECF6",
            "gridcolor": "white",
            "gridwidth": 2,
            "linecolor": "white",
            "showbackground": true,
            "ticks": "",
            "zerolinecolor": "white"
           },
           "yaxis": {
            "backgroundcolor": "#E5ECF6",
            "gridcolor": "white",
            "gridwidth": 2,
            "linecolor": "white",
            "showbackground": true,
            "ticks": "",
            "zerolinecolor": "white"
           },
           "zaxis": {
            "backgroundcolor": "#E5ECF6",
            "gridcolor": "white",
            "gridwidth": 2,
            "linecolor": "white",
            "showbackground": true,
            "ticks": "",
            "zerolinecolor": "white"
           }
          },
          "shapedefaults": {
           "line": {
            "color": "#2a3f5f"
           }
          },
          "ternary": {
           "aaxis": {
            "gridcolor": "white",
            "linecolor": "white",
            "ticks": ""
           },
           "baxis": {
            "gridcolor": "white",
            "linecolor": "white",
            "ticks": ""
           },
           "bgcolor": "#E5ECF6",
           "caxis": {
            "gridcolor": "white",
            "linecolor": "white",
            "ticks": ""
           }
          },
          "title": {
           "x": 0.05
          },
          "xaxis": {
           "automargin": true,
           "gridcolor": "white",
           "linecolor": "white",
           "ticks": "",
           "title": {
            "standoff": 15
           },
           "zerolinecolor": "white",
           "zerolinewidth": 2
          },
          "yaxis": {
           "automargin": true,
           "gridcolor": "white",
           "linecolor": "white",
           "ticks": "",
           "title": {
            "standoff": 15
           },
           "zerolinecolor": "white",
           "zerolinewidth": 2
          }
         }
        },
        "title": {
         "text": "Male & Female users"
        }
       }
      }
     },
     "metadata": {},
     "output_type": "display_data"
    }
   ],
   "source": [
    "gender_counts = user['gender'].value_counts()\n",
    "\n",
    "colors1 = ['dodgerblue', 'pink']\n",
    "\n",
    "pie = go.Pie(labels=gender_counts.index,\n",
    "             values=gender_counts.values,\n",
    "             marker=dict(colors=colors1),\n",
    "             hole=0.5)\n",
    "\n",
    "layout = go.Layout(title='Male & Female users', font=dict(size=18), legend=dict(orientation='h'))\n",
    "\n",
    "fig = go.Figure(data=[pie], layout=layout)\n",
    "py.iplot(fig)"
   ]
  },
  {
   "attachments": {},
   "cell_type": "markdown",
   "metadata": {},
   "source": [
    "A look at the age groups shows that many younger people in particular gave their opinion on the films."
   ]
  },
  {
   "cell_type": "code",
   "execution_count": 258,
   "metadata": {},
   "outputs": [
    {
     "data": {
      "image/png": "[encoded data removed]",
      "text/plain": [
       "<Figure size 640x480 with 1 Axes>"
      ]
     },
     "metadata": {},
     "output_type": "display_data"
    }
   ],
   "source": [
    "ages_map = {18: '18 - 24',\n",
    "            25: '25 - 34',\n",
    "            35: '35 - 44',\n",
    "            45: '45 - 49',\n",
    "            50: '50 - 55',\n",
    "            56: '56+'}\n",
    "\n",
    "df_final['age'] = df_final['age'].map(ages_map)\n",
    "\n",
    "age_reindex = ['18 - 24', '25 - 34', '35 - 44', '45 - 49', '50 - 55', '56+']\n",
    "\n",
    "age_counts = df_final['age'].value_counts().reindex(age_reindex)\n",
    "\n",
    "sns.barplot(x=age_counts.values,\n",
    "            y=age_counts.index,\n",
    "            palette='magma').set_title(\n",
    "                'Users age', fontsize=24)\n",
    "plt.show()"
   ]
  },
  {
   "attachments": {},
   "cell_type": "markdown",
   "metadata": {},
   "source": [
    "In addition, it is possible to display which films were rated the most by which age group. In this case, Star Wars was rated the most by 25-34 year olds."
   ]
  },
  {
   "cell_type": "code",
   "execution_count": 259,
   "metadata": {},
   "outputs": [
    {
     "data": {
      "text/plain": [
       "Star Wars (1977)                   28\n",
       "Return of the Jedi (1983)          25\n",
       "Star Trek: First Contact (1996)    24\n",
       "Independence Day (ID4) (1996)      23\n",
       "Liar Liar (1997)                   23\n",
       "Toy Story (1995)                   22\n",
       "Raiders of the Lost Ark (1981)     21\n",
       "Name: movie title, dtype: int64"
      ]
     },
     "execution_count": 259,
     "metadata": {},
     "output_type": "execute_result"
    }
   ],
   "source": [
    "df_final[df_final['age'] == '25 - 34']['movie title'].value_counts()[:7]"
   ]
  },
  {
   "attachments": {},
   "cell_type": "markdown",
   "metadata": {},
   "source": [
    "The following graphic also corresponds to the previous findings. By far the most popular vocation among the rating users is studying."
   ]
  },
  {
   "cell_type": "code",
   "execution_count": 260,
   "metadata": {},
   "outputs": [
    {
     "data": {
      "image/png": "[encoded data removed]",
      "text/plain": [
       "<Figure size 640x480 with 1 Axes>"
      ]
     },
     "metadata": {},
     "output_type": "display_data"
    }
   ],
   "source": [
    "occupation_counts = user['occupation'].value_counts().sort_values(ascending=False)\n",
    "\n",
    "sns.barplot(x=occupation_counts.values,\n",
    "            y=occupation_counts.index,\n",
    "            palette='dark').set_title(\n",
    "                'Occupation list', fontsize=14)\n",
    "\n",
    "plt.show()"
   ]
  },
  {
   "attachments": {},
   "cell_type": "markdown",
   "metadata": {},
   "source": [
    "Finally, the films that were rated either the best or the most frequently are displayed."
   ]
  },
  {
   "cell_type": "code",
   "execution_count": 261,
   "metadata": {},
   "outputs": [
    {
     "data": {
      "text/html": [
       "<div>\n",
       "<style scoped>\n",
       "    .dataframe tbody tr th:only-of-type {\n",
       "        vertical-align: middle;\n",
       "    }\n",
       "\n",
       "    .dataframe tbody tr th {\n",
       "        vertical-align: top;\n",
       "    }\n",
       "\n",
       "    .dataframe thead th {\n",
       "        text-align: right;\n",
       "    }\n",
       "</style>\n",
       "<table border=\"1\" class=\"dataframe\">\n",
       "  <thead>\n",
       "    <tr style=\"text-align: right;\">\n",
       "      <th></th>\n",
       "      <th></th>\n",
       "      <th>rating</th>\n",
       "      <th>n_reviews</th>\n",
       "    </tr>\n",
       "    <tr>\n",
       "      <th>movieId</th>\n",
       "      <th>movie title</th>\n",
       "      <th></th>\n",
       "      <th></th>\n",
       "    </tr>\n",
       "  </thead>\n",
       "  <tbody>\n",
       "    <tr>\n",
       "      <th>408</th>\n",
       "      <th>Close Shave, A (1995)</th>\n",
       "      <td>4.491071</td>\n",
       "      <td>112</td>\n",
       "    </tr>\n",
       "    <tr>\n",
       "      <th>318</th>\n",
       "      <th>Schindler's List (1993)</th>\n",
       "      <td>4.466443</td>\n",
       "      <td>298</td>\n",
       "    </tr>\n",
       "    <tr>\n",
       "      <th>169</th>\n",
       "      <th>Wrong Trousers, The (1993)</th>\n",
       "      <td>4.466102</td>\n",
       "      <td>118</td>\n",
       "    </tr>\n",
       "    <tr>\n",
       "      <th>483</th>\n",
       "      <th>Casablanca (1942)</th>\n",
       "      <td>4.456790</td>\n",
       "      <td>243</td>\n",
       "    </tr>\n",
       "    <tr>\n",
       "      <th>114</th>\n",
       "      <th>Wallace &amp; Gromit: The Best of Aardman Animation (1996)</th>\n",
       "      <td>4.447761</td>\n",
       "      <td>67</td>\n",
       "    </tr>\n",
       "    <tr>\n",
       "      <th>64</th>\n",
       "      <th>Shawshank Redemption, The (1994)</th>\n",
       "      <td>4.445230</td>\n",
       "      <td>283</td>\n",
       "    </tr>\n",
       "    <tr>\n",
       "      <th>603</th>\n",
       "      <th>Rear Window (1954)</th>\n",
       "      <td>4.387560</td>\n",
       "      <td>209</td>\n",
       "    </tr>\n",
       "    <tr>\n",
       "      <th>12</th>\n",
       "      <th>Usual Suspects, The (1995)</th>\n",
       "      <td>4.385768</td>\n",
       "      <td>267</td>\n",
       "    </tr>\n",
       "    <tr>\n",
       "      <th>50</th>\n",
       "      <th>Star Wars (1977)</th>\n",
       "      <td>4.358491</td>\n",
       "      <td>583</td>\n",
       "    </tr>\n",
       "    <tr>\n",
       "      <th>178</th>\n",
       "      <th>12 Angry Men (1957)</th>\n",
       "      <td>4.344000</td>\n",
       "      <td>125</td>\n",
       "    </tr>\n",
       "  </tbody>\n",
       "</table>\n",
       "</div>"
      ],
      "text/plain": [
       "                                                              rating  \\\n",
       "movieId movie title                                                    \n",
       "408     Close Shave, A (1995)                               4.491071   \n",
       "318     Schindler's List (1993)                             4.466443   \n",
       "169     Wrong Trousers, The (1993)                          4.466102   \n",
       "483     Casablanca (1942)                                   4.456790   \n",
       "114     Wallace & Gromit: The Best of Aardman Animation...  4.447761   \n",
       "64      Shawshank Redemption, The (1994)                    4.445230   \n",
       "603     Rear Window (1954)                                  4.387560   \n",
       "12      Usual Suspects, The (1995)                          4.385768   \n",
       "50      Star Wars (1977)                                    4.358491   \n",
       "178     12 Angry Men (1957)                                 4.344000   \n",
       "\n",
       "                                                            n_reviews  \n",
       "movieId movie title                                                    \n",
       "408     Close Shave, A (1995)                                     112  \n",
       "318     Schindler's List (1993)                                   298  \n",
       "169     Wrong Trousers, The (1993)                                118  \n",
       "483     Casablanca (1942)                                         243  \n",
       "114     Wallace & Gromit: The Best of Aardman Animation...         67  \n",
       "64      Shawshank Redemption, The (1994)                          283  \n",
       "603     Rear Window (1954)                                        209  \n",
       "12      Usual Suspects, The (1995)                                267  \n",
       "50      Star Wars (1977)                                          583  \n",
       "178     12 Angry Men (1957)                                       125  "
      ]
     },
     "execution_count": 261,
     "metadata": {},
     "output_type": "execute_result"
    }
   ],
   "source": [
    "df_top_review = df_final.groupby(['movieId', 'movie title']).agg({'rating': 'mean', 'userId': 'count'}).rename(columns={'userId': 'n_reviews'})\n",
    "df_top_review = df_top_review[df_top_review.n_reviews > 10]\n",
    "df_top_review.sort_values('rating', ascending=False)[:10]"
   ]
  },
  {
   "cell_type": "code",
   "execution_count": 262,
   "metadata": {},
   "outputs": [
    {
     "data": {
      "text/html": [
       "<div>\n",
       "<style scoped>\n",
       "    .dataframe tbody tr th:only-of-type {\n",
       "        vertical-align: middle;\n",
       "    }\n",
       "\n",
       "    .dataframe tbody tr th {\n",
       "        vertical-align: top;\n",
       "    }\n",
       "\n",
       "    .dataframe thead th {\n",
       "        text-align: right;\n",
       "    }\n",
       "</style>\n",
       "<table border=\"1\" class=\"dataframe\">\n",
       "  <thead>\n",
       "    <tr style=\"text-align: right;\">\n",
       "      <th></th>\n",
       "      <th></th>\n",
       "      <th>rating</th>\n",
       "      <th>n_reviews</th>\n",
       "    </tr>\n",
       "    <tr>\n",
       "      <th>movieId</th>\n",
       "      <th>movie title</th>\n",
       "      <th></th>\n",
       "      <th></th>\n",
       "    </tr>\n",
       "  </thead>\n",
       "  <tbody>\n",
       "    <tr>\n",
       "      <th>50</th>\n",
       "      <th>Star Wars (1977)</th>\n",
       "      <td>4.358491</td>\n",
       "      <td>583</td>\n",
       "    </tr>\n",
       "    <tr>\n",
       "      <th>258</th>\n",
       "      <th>Contact (1997)</th>\n",
       "      <td>3.803536</td>\n",
       "      <td>509</td>\n",
       "    </tr>\n",
       "    <tr>\n",
       "      <th>100</th>\n",
       "      <th>Fargo (1996)</th>\n",
       "      <td>4.155512</td>\n",
       "      <td>508</td>\n",
       "    </tr>\n",
       "    <tr>\n",
       "      <th>181</th>\n",
       "      <th>Return of the Jedi (1983)</th>\n",
       "      <td>4.007890</td>\n",
       "      <td>507</td>\n",
       "    </tr>\n",
       "    <tr>\n",
       "      <th>294</th>\n",
       "      <th>Liar Liar (1997)</th>\n",
       "      <td>3.156701</td>\n",
       "      <td>485</td>\n",
       "    </tr>\n",
       "    <tr>\n",
       "      <th>286</th>\n",
       "      <th>English Patient, The (1996)</th>\n",
       "      <td>3.656965</td>\n",
       "      <td>481</td>\n",
       "    </tr>\n",
       "    <tr>\n",
       "      <th>288</th>\n",
       "      <th>Scream (1996)</th>\n",
       "      <td>3.441423</td>\n",
       "      <td>478</td>\n",
       "    </tr>\n",
       "    <tr>\n",
       "      <th>1</th>\n",
       "      <th>Toy Story (1995)</th>\n",
       "      <td>3.878319</td>\n",
       "      <td>452</td>\n",
       "    </tr>\n",
       "    <tr>\n",
       "      <th>300</th>\n",
       "      <th>Air Force One (1997)</th>\n",
       "      <td>3.631090</td>\n",
       "      <td>431</td>\n",
       "    </tr>\n",
       "    <tr>\n",
       "      <th>121</th>\n",
       "      <th>Independence Day (ID4) (1996)</th>\n",
       "      <td>3.438228</td>\n",
       "      <td>429</td>\n",
       "    </tr>\n",
       "  </tbody>\n",
       "</table>\n",
       "</div>"
      ],
      "text/plain": [
       "                                         rating  n_reviews\n",
       "movieId movie title                                       \n",
       "50      Star Wars (1977)               4.358491        583\n",
       "258     Contact (1997)                 3.803536        509\n",
       "100     Fargo (1996)                   4.155512        508\n",
       "181     Return of the Jedi (1983)      4.007890        507\n",
       "294     Liar Liar (1997)               3.156701        485\n",
       "286     English Patient, The (1996)    3.656965        481\n",
       "288     Scream (1996)                  3.441423        478\n",
       "1       Toy Story (1995)               3.878319        452\n",
       "300     Air Force One (1997)           3.631090        431\n",
       "121     Independence Day (ID4) (1996)  3.438228        429"
      ]
     },
     "execution_count": 262,
     "metadata": {},
     "output_type": "execute_result"
    }
   ],
   "source": [
    "df_top_review.sort_values('n_reviews', ascending=False)[:10]"
   ]
  },
  {
   "attachments": {},
   "cell_type": "markdown",
   "metadata": {},
   "source": [
    "Unfortunately, the analyzed data will not be taken into account in the further course. That's because I've only found recommender systems that use content-based filtering with multiple input variables on the user side that were incomprehensible to my level of knowledge.\n",
    "For this reason, a recommender system based on collaborative filtering is used below. This procedure finds users who have rated the same movies well. As a result, the user will be suggested movies that he has not yet rated, but which the user with similar interests has found to be good. Only the UserIDs and their ratings for the films are relevant for this. However, the exact characteristics of the users are irrelevant."
   ]
  },
  {
   "attachments": {},
   "cell_type": "markdown",
   "metadata": {},
   "source": [
    "# Pre processing Data"
   ]
  },
  {
   "attachments": {},
   "cell_type": "markdown",
   "metadata": {},
   "source": [
    "To start with the model, the data must first be adjusted. To do this, all irrelevant data is removed from the data frame. For this model, only the UserID and its rating of the films is relevant."
   ]
  },
  {
   "cell_type": "code",
   "execution_count": 263,
   "metadata": {},
   "outputs": [],
   "source": [
    "df_final.drop(['movie title', 'video release date', 'IMDb URL', 'release date', 'unknown', 'Action', \n",
    "                'Adventure', 'Animation', 'Children', 'Comedy', 'Crime', 'Documentary', 'Drama', 'Fantasy', 'Film-Noir', \n",
    "                'Horror', 'Musical', 'Mystery', 'Romance', 'Sci-Fi', 'Thriller', 'War', 'Western', 'zip code', 'age', 'gender', 'occupation', 'time'], axis=1, inplace=True)"
   ]
  },
  {
   "attachments": {},
   "cell_type": "markdown",
   "metadata": {},
   "source": [
    "Here the data sets for training and validation, a list of all User IDs and Movie IDs are created."
   ]
  },
  {
   "cell_type": "code",
   "execution_count": 264,
   "metadata": {},
   "outputs": [],
   "source": [
    "df_train, df_val = train_test_split(df_final, random_state=42, test_size=0.2, stratify=df_final.rating)\n",
    "\n",
    "userIds = df_final['userId'].unique().tolist()\n",
    "num_unique_users = len(userIds)\n",
    "\n",
    "movieIds = df_final['movieId'].unique().tolist()\n",
    "num_unique_movies = len(movieIds)\n",
    "\n",
    "dict_movies = {}\n",
    "index = 0\n",
    "for ids in sorted(movieIds):\n",
    "    dict_movies[ids] = index\n",
    "    index += 1\n",
    "\n",
    "dict_users = {}\n",
    "index = 0\n",
    "for ids in sorted(userIds):\n",
    "    dict_users[ids] = index\n",
    "    index += 1\n",
    "\n",
    "df_train['movieId'] = df_train['movieId'].map(dict_movies)\n",
    "df_val['movieId'] = df_val['movieId'].map(dict_movies)\n",
    "\n",
    "df_train['userId'] = df_train['userId'].map(dict_users)\n",
    "df_val['userId'] = df_val['userId'].map(dict_users)\n",
    "\n",
    "for col in ['userId', 'movieId', 'rating']:\n",
    "    df_train[col] = df_train[col].astype(np.float32)\n",
    "    df_val[col] = df_val[col].astype(np.float32)"
   ]
  },
  {
   "attachments": {},
   "cell_type": "markdown",
   "metadata": {},
   "source": [
    "# Model"
   ]
  },
  {
   "attachments": {},
   "cell_type": "markdown",
   "metadata": {},
   "source": [
    "For the model, Keras creates embeddings once for the users and once for the movies. In the next step, the embeddings are multiplied with each other and the biases are added. Then, as in the deep dive tutorial, a flattening and a dense layer follow to level and activate the input values."
   ]
  },
  {
   "cell_type": "code",
   "execution_count": 265,
   "metadata": {},
   "outputs": [
    {
     "name": "stdout",
     "output_type": "stream",
     "text": [
      "Model: \"model_9\"\n",
      "__________________________________________________________________________________________________\n",
      " Layer (type)                   Output Shape         Param #     Connected to                     \n",
      "==================================================================================================\n",
      " users_input (InputLayer)       [(None, 1)]          0           []                               \n",
      "                                                                                                  \n",
      " movies_input (InputLayer)      [(None, 1)]          0           []                               \n",
      "                                                                                                  \n",
      " users_embeddings (Embedding)   (None, 1, 128)       120832      ['users_input[0][0]']            \n",
      "                                                                                                  \n",
      " movies_embeddings (Embedding)  (None, 1, 128)       215424      ['movies_input[0][0]']           \n",
      "                                                                                                  \n",
      " multiply_9 (Multiply)          (None, 1, 128)       0           ['users_embeddings[0][0]',       \n",
      "                                                                  'movies_embeddings[0][0]']      \n",
      "                                                                                                  \n",
      " users_bias (Embedding)         (None, 1, 1)         944         ['users_input[0][0]']            \n",
      "                                                                                                  \n",
      " tf.__operators__.add_25 (TFOpL  (None, 1, 128)      0           ['multiply_9[0][0]',             \n",
      " ambda)                                                           'users_bias[0][0]']             \n",
      "                                                                                                  \n",
      " movies_bias (Embedding)        (None, 1, 1)         1683        ['movies_input[0][0]']           \n",
      "                                                                                                  \n",
      " tf.__operators__.add_26 (TFOpL  (None, 1, 128)      0           ['tf.__operators__.add_25[0][0]',\n",
      " ambda)                                                           'movies_bias[0][0]']            \n",
      "                                                                                                  \n",
      " fl_inputs (Flatten)            (None, 128)          0           ['tf.__operators__.add_26[0][0]']\n",
      "                                                                                                  \n",
      " output (Dense)                 (None, 1)            129         ['fl_inputs[0][0]']              \n",
      "                                                                                                  \n",
      "==================================================================================================\n",
      "Total params: 339,012\n",
      "Trainable params: 339,012\n",
      "Non-trainable params: 0\n",
      "__________________________________________________________________________________________________\n"
     ]
    }
   ],
   "source": [
    "EMBEDDING_SIZE = 128\n",
    "\n",
    "users_input = keras.Input(shape=(1,), name='users_input')\n",
    "users_embedding = tf.keras.layers.Embedding(num_unique_users + 1, EMBEDDING_SIZE, name='users_embeddings')(users_input)\n",
    "users_bias = tf.keras.layers.Embedding(num_unique_users + 1, 1, name='users_bias')(users_input)\n",
    "\n",
    "movies_input = keras.Input(shape=(1,), name='movies_input')\n",
    "movies_embedding = tf.keras.layers.Embedding(num_unique_movies + 1, EMBEDDING_SIZE, name='movies_embeddings')(movies_input)\n",
    "movies_bias = tf.keras.layers.Embedding(num_unique_movies + 1, 1, name='movies_bias')(movies_input)\n",
    "\n",
    "dot_product_users_movies = tf.keras.layers.multiply([users_embedding, movies_embedding])\n",
    "input_terms = dot_product_users_movies + users_bias + movies_bias\n",
    "input_terms = tf.keras.layers.Flatten(name='fl_inputs')(input_terms)\n",
    "output = tf.keras.layers.Dense(1, activation='relu', name='output')(input_terms)\n",
    "model = tf.keras.Model(inputs=[users_input, movies_input], outputs=output)\n",
    "\n",
    "model.summary()"
   ]
  },
  {
   "cell_type": "code",
   "execution_count": 266,
   "metadata": {},
   "outputs": [],
   "source": [
    "opt_adam = tf.keras.optimizers.Adam(learning_rate=0.001)\n",
    "model.compile(optimizer=opt_adam, loss= ['mse'], metrics=['mean_absolute_error'])"
   ]
  },
  {
   "cell_type": "code",
   "execution_count": 267,
   "metadata": {},
   "outputs": [
    {
     "name": "stdout",
     "output_type": "stream",
     "text": [
      "Epoch 1/10\n",
      "157/157 [==============================] - 4s 11ms/step - loss: 6.7566 - mean_absolute_error: 2.1844 - val_loss: 1.3865 - val_mean_absolute_error: 0.9403\n",
      "Epoch 2/10\n",
      "157/157 [==============================] - 1s 7ms/step - loss: 1.0743 - mean_absolute_error: 0.8184 - val_loss: 0.9559 - val_mean_absolute_error: 0.7725\n",
      "Epoch 3/10\n",
      "157/157 [==============================] - 1s 7ms/step - loss: 0.8962 - mean_absolute_error: 0.7473 - val_loss: 0.9086 - val_mean_absolute_error: 0.7518\n",
      "Epoch 4/10\n",
      "157/157 [==============================] - 2s 11ms/step - loss: 0.8582 - mean_absolute_error: 0.7307 - val_loss: 0.8909 - val_mean_absolute_error: 0.7447\n",
      "Epoch 5/10\n",
      "157/157 [==============================] - 2s 13ms/step - loss: 0.8281 - mean_absolute_error: 0.7177 - val_loss: 0.8761 - val_mean_absolute_error: 0.7360\n",
      "Epoch 6/10\n",
      "157/157 [==============================] - 2s 12ms/step - loss: 0.7886 - mean_absolute_error: 0.6994 - val_loss: 0.8584 - val_mean_absolute_error: 0.7295\n",
      "Epoch 7/10\n",
      "157/157 [==============================] - 2s 12ms/step - loss: 0.7407 - mean_absolute_error: 0.6771 - val_loss: 0.8452 - val_mean_absolute_error: 0.7223\n",
      "Epoch 8/10\n",
      "157/157 [==============================] - 1s 8ms/step - loss: 0.6899 - mean_absolute_error: 0.6523 - val_loss: 0.8372 - val_mean_absolute_error: 0.7185\n",
      "Epoch 9/10\n",
      "157/157 [==============================] - 2s 12ms/step - loss: 0.6366 - mean_absolute_error: 0.6256 - val_loss: 0.8313 - val_mean_absolute_error: 0.7168\n",
      "Epoch 10/10\n",
      "157/157 [==============================] - 2s 12ms/step - loss: 0.5814 - mean_absolute_error: 0.5966 - val_loss: 0.8280 - val_mean_absolute_error: 0.7151\n"
     ]
    },
    {
     "data": {
      "text/plain": [
       "<keras.callbacks.History at 0x1fb5d000160>"
      ]
     },
     "execution_count": 267,
     "metadata": {},
     "output_type": "execute_result"
    }
   ],
   "source": [
    "model.fit(x=[df_train.userId, df_train.movieId], y=df_train.rating, batch_size=512, epochs=10, verbose=1, validation_data=([df_val.userId, df_val.movieId], df_val.rating))"
   ]
  },
  {
   "cell_type": "code",
   "execution_count": 268,
   "metadata": {},
   "outputs": [],
   "source": [
    "min_rating=min(df_train.rating.min(), df_val.rating.min())\n",
    "max_rating=max(df_train.rating.max(), df_val.rating.max())"
   ]
  },
  {
   "attachments": {},
   "cell_type": "markdown",
   "metadata": {},
   "source": [
    "As a supplement, the output layer is set to the minimum and maximum values ​​of the assessment and a sigmoid activation. This can reduce the loss. The learning rate of 0.001 remains the same."
   ]
  },
  {
   "cell_type": "code",
   "execution_count": 269,
   "metadata": {},
   "outputs": [],
   "source": [
    "output = tf.keras.layers.Dense(1, activation='sigmoid', name='output')(input_terms) \n",
    "output = output * (max_rating - min_rating) + min_rating"
   ]
  },
  {
   "cell_type": "code",
   "execution_count": 270,
   "metadata": {},
   "outputs": [
    {
     "name": "stdout",
     "output_type": "stream",
     "text": [
      "Epoch 1/5\n",
      "40/40 [==============================] - 2s 20ms/step - loss: 0.5204 - mean_absolute_error: 0.5634 - val_loss: 0.8234 - val_mean_absolute_error: 0.7134\n",
      "Epoch 2/5\n",
      "40/40 [==============================] - 0s 12ms/step - loss: 0.5020 - mean_absolute_error: 0.5527 - val_loss: 0.8220 - val_mean_absolute_error: 0.7123\n",
      "Epoch 3/5\n",
      "40/40 [==============================] - 1s 13ms/step - loss: 0.4848 - mean_absolute_error: 0.5426 - val_loss: 0.8215 - val_mean_absolute_error: 0.7121\n",
      "Epoch 4/5\n",
      "40/40 [==============================] - 0s 10ms/step - loss: 0.4678 - mean_absolute_error: 0.5325 - val_loss: 0.8227 - val_mean_absolute_error: 0.7124\n",
      "Epoch 5/5\n",
      "40/40 [==============================] - 1s 15ms/step - loss: 0.4505 - mean_absolute_error: 0.5219 - val_loss: 0.8231 - val_mean_absolute_error: 0.7125\n"
     ]
    },
    {
     "data": {
      "text/plain": [
       "<keras.callbacks.History at 0x1fb0393bcd0>"
      ]
     },
     "execution_count": 270,
     "metadata": {},
     "output_type": "execute_result"
    }
   ],
   "source": [
    "model.compile(optimizer=opt_adam, loss= ['mse'], metrics=['mean_absolute_error'])\n",
    "model.fit(x=[df_train.userId, df_train.movieId], y=df_train.rating, batch_size=2048, epochs=5, verbose=1, validation_data=([df_val.userId, df_val.movieId], df_val.rating))"
   ]
  },
  {
   "attachments": {},
   "cell_type": "markdown",
   "metadata": {},
   "source": [
    "# Evaluation"
   ]
  },
  {
   "attachments": {},
   "cell_type": "markdown",
   "metadata": {},
   "source": [
    "For evaluation, the weights behind the embeddings are extracted and displayed for the movies."
   ]
  },
  {
   "cell_type": "code",
   "execution_count": 271,
   "metadata": {},
   "outputs": [
    {
     "data": {
      "text/html": [
       "<div>\n",
       "<style scoped>\n",
       "    .dataframe tbody tr th:only-of-type {\n",
       "        vertical-align: middle;\n",
       "    }\n",
       "\n",
       "    .dataframe tbody tr th {\n",
       "        vertical-align: top;\n",
       "    }\n",
       "\n",
       "    .dataframe thead th {\n",
       "        text-align: right;\n",
       "    }\n",
       "</style>\n",
       "<table border=\"1\" class=\"dataframe\">\n",
       "  <thead>\n",
       "    <tr style=\"text-align: right;\">\n",
       "      <th></th>\n",
       "      <th>movieId</th>\n",
       "      <th>bias</th>\n",
       "    </tr>\n",
       "  </thead>\n",
       "  <tbody>\n",
       "    <tr>\n",
       "      <th>1658</th>\n",
       "      <td>1658</td>\n",
       "      <td>0.035070</td>\n",
       "    </tr>\n",
       "    <tr>\n",
       "      <th>438</th>\n",
       "      <td>438</td>\n",
       "      <td>0.034629</td>\n",
       "    </tr>\n",
       "    <tr>\n",
       "      <th>1677</th>\n",
       "      <td>1677</td>\n",
       "      <td>0.032909</td>\n",
       "    </tr>\n",
       "    <tr>\n",
       "      <th>1501</th>\n",
       "      <td>1501</td>\n",
       "      <td>0.031649</td>\n",
       "    </tr>\n",
       "    <tr>\n",
       "      <th>1651</th>\n",
       "      <td>1651</td>\n",
       "      <td>0.031609</td>\n",
       "    </tr>\n",
       "    <tr>\n",
       "      <th>...</th>\n",
       "      <td>...</td>\n",
       "      <td>...</td>\n",
       "    </tr>\n",
       "    <tr>\n",
       "      <th>1641</th>\n",
       "      <td>1641</td>\n",
       "      <td>-0.121368</td>\n",
       "    </tr>\n",
       "    <tr>\n",
       "      <th>482</th>\n",
       "      <td>482</td>\n",
       "      <td>-0.121908</td>\n",
       "    </tr>\n",
       "    <tr>\n",
       "      <th>1397</th>\n",
       "      <td>1397</td>\n",
       "      <td>-0.125082</td>\n",
       "    </tr>\n",
       "    <tr>\n",
       "      <th>1499</th>\n",
       "      <td>1499</td>\n",
       "      <td>-0.125225</td>\n",
       "    </tr>\n",
       "    <tr>\n",
       "      <th>1448</th>\n",
       "      <td>1448</td>\n",
       "      <td>-0.130036</td>\n",
       "    </tr>\n",
       "  </tbody>\n",
       "</table>\n",
       "<p>1673 rows × 2 columns</p>\n",
       "</div>"
      ],
      "text/plain": [
       "      movieId      bias\n",
       "1658     1658  0.035070\n",
       "438       438  0.034629\n",
       "1677     1677  0.032909\n",
       "1501     1501  0.031649\n",
       "1651     1651  0.031609\n",
       "...       ...       ...\n",
       "1641     1641 -0.121368\n",
       "482       482 -0.121908\n",
       "1397     1397 -0.125082\n",
       "1499     1499 -0.125225\n",
       "1448     1448 -0.130036\n",
       "\n",
       "[1673 rows x 2 columns]"
      ]
     },
     "execution_count": 271,
     "metadata": {},
     "output_type": "execute_result"
    }
   ],
   "source": [
    "dict_weights = {}\n",
    "for layer in model.layers:\n",
    "    if layer.name in ['users_embeddings', 'movies_embeddings', 'users_bias', 'movies_bias']:\n",
    "        dict_weights[layer.name] = layer.weights\n",
    "        \n",
    "df_movies_embeddings = pd.DataFrame(dict_weights['movies_embeddings'][0].numpy())\n",
    "df_movies_embeddings.columns = ['emb_' + str(col) for col in df_movies_embeddings.columns]\n",
    "df_movies_embeddings.reset_index(inplace=True)\n",
    "df_movies_embeddings.rename(columns={'index':'movieId'}, inplace=True)\n",
    "\n",
    "df_user_embeddings = pd.DataFrame(dict_weights['users_embeddings'][0].numpy())\n",
    "df_user_embeddings.columns = ['emb_' + str(col) for col in df_user_embeddings.columns]\n",
    "df_user_embeddings.reset_index(inplace=True)\n",
    "df_user_embeddings.rename(columns={'index':'userId'}, inplace=True)\n",
    "\n",
    "df_movies_embeddings = df_movies_embeddings.merge(df_train[['movieId']].drop_duplicates(), how='left', on='movieId')\n",
    "\n",
    "df_movies_embeddings['bias'] = dict_weights['movies_bias'][0].numpy()\n",
    "df_movies_embeddings[['movieId', 'bias']].sort_values('bias', ascending=False)[10:]"
   ]
  },
  {
   "attachments": {},
   "cell_type": "markdown",
   "metadata": {},
   "source": [
    "Ein höherer Bias bedeutet, auch wenn der Benutzer eine andere Art von Filmen mag, das ihm dieser Film gefallen könnte."
   ]
  }
 ],
 "metadata": {
  "kernelspec": {
   "display_name": "Python 3",
   "language": "python",
   "name": "python3"
  },
  "language_info": {
   "codemirror_mode": {
    "name": "ipython",
    "version": 3
   },
   "file_extension": ".py",
   "mimetype": "text/x-python",
   "name": "python",
   "nbconvert_exporter": "python",
   "pygments_lexer": "ipython3",
   "version": "3.10.8 (tags/v3.10.8:aaaf517, Oct 11 2022, 16:50:30) [MSC v.1933 64 bit (AMD64)]"
  },
  "orig_nbformat": 4,
  "vscode": {
   "interpreter": {
    "hash": "43f84272b90556fb4a83508143e57e998eabb218d530dd495b531740d9060792"
   }
  }
 },
 "nbformat": 4,
 "nbformat_minor": 2
}
